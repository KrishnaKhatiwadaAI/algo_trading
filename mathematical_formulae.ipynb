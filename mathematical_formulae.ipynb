{
 "cells": [
  {
   "cell_type": "code",
   "execution_count": 82,
   "metadata": {},
   "outputs": [],
   "source": [
    "import pandas as pd\n",
    "df_price = pd.read_csv('/home/krishna/Music/stock_market/stock_analysis/todayshareprice.csv')"
   ]
  },
  {
   "cell_type": "code",
   "execution_count": 83,
   "metadata": {},
   "outputs": [
    {
     "data": {
      "text/plain": [
       "Index(['index', 'S.N.', 'Traded Companies', 'No. Of Transaction', 'Max Price',\n",
       "       'Min Price', 'Closing Price', 'Traded Shares', 'Amount',\n",
       "       'Previous Closing', 'Difference Rs.', 'Date'],\n",
       "      dtype='object')"
      ]
     },
     "execution_count": 83,
     "metadata": {},
     "output_type": "execute_result"
    }
   ],
   "source": [
    "df_price.columns"
   ]
  },
  {
   "cell_type": "code",
   "execution_count": 84,
   "metadata": {},
   "outputs": [],
   "source": [
    "df_price.rename(columns = {'Max Price':'high',\n",
    "                 'Min Price':'low',\n",
    "                 'Closing Price':'close',\n",
    "                'Amount':'volume',\n",
    "                 'Traded Shares':'traded_shares'},inplace=True)"
   ]
  },
  {
   "cell_type": "code",
   "execution_count": 85,
   "metadata": {},
   "outputs": [],
   "source": [
    "# list(df_price.close.pct_change(periods=7).dropna())"
   ]
  },
  {
   "cell_type": "code",
   "execution_count": 86,
   "metadata": {},
   "outputs": [
    {
     "name": "stdout",
     "output_type": "stream",
     "text": [
      "0.0878025418504823\n"
     ]
    }
   ],
   "source": [
    "# sharpe ratio formula\n",
    "import numpy as np\n",
    "import pandas as pd\n",
    "df_price = pd.read_csv(\n",
    "    '/home/krishna/Music/stock_market/stock_analysis/todayshareprice.csv')\n",
    "df_price.rename(columns={'Max Price': 'high',\n",
    "                         'Min Price': 'low',\n",
    "                         'Closing Price': 'close',\n",
    "                'Amount': 'volume',\n",
    "                          'Traded Shares': 'traded_shares'}, inplace=True)\n",
    "\n",
    "\n",
    "class STATSFINDER:\n",
    "    def __init__(self, price_df, risk_free__yr_return=8):\n",
    "        \"\"\"\n",
    "        args:\n",
    "        price_df : the pandas dataframe constaining price of stock over the period\n",
    "        \"\"\"\n",
    "        self.price_df = price_df\n",
    "        self.risk_free__yr_return = risk_free__yr_return\n",
    "\n",
    "    def real_returns_calculator(self, periods=1):\n",
    "        risk_free__yr_return = self.risk_free__yr_return\n",
    "        daily_return = risk_free__yr_return**(1/365)\n",
    "        req_return = daily_return**periods\n",
    "        return req_return\n",
    "\n",
    "    def returns_calculator(self, periods=1, real=True):\n",
    "        \"\"\"\n",
    "        args\n",
    "        periods = no of periods that we want to calculate returns for\n",
    "        \"\"\"\n",
    "        if real:\n",
    "            risk_free_return = self.real_returns_calculator(periods=periods)\n",
    "        else:\n",
    "            risk_free_return = 0\n",
    "        returns = self.price_df[['close', 'high', 'low']].pct_change(\n",
    "            periods=periods)-risk_free_return-1\n",
    "        returns.replace([np.inf, -np.inf], np.nan, inplace=True)\n",
    "        returns.fillna(returns.mean(), inplace=True)\n",
    "        return returns\n",
    "\n",
    "    def mean_return_calculator(self, periods=1, real=True):\n",
    "        df_returns = self.returns_calculator(periods=1, real=True)\n",
    "        return df_returns.mean().to_dict()\n",
    "\n",
    "    def std_return_calculator(self,periods=1, real=True):\n",
    "        df_returns = self.returns_calculator(periods=1, real=True)\n",
    "        return df_returns.std().to_dict()\n",
    "\n",
    "class MathematicalFormulae:\n",
    "    def sharpe_ratio(self,mean_of_risk_free_return,std_of_risk_free_return):\n",
    "        # information ratio or sharpe ratio\n",
    "        sharpe_ratio = mean_of_risk_free_return/std_of_risk_free_return\n",
    "        return sharpe_ratio\n",
    "\n",
    "\n",
    "\n",
    "stats_values = STATSFINDER(df_price)\n",
    "std_of_return = stats_values.std_return_calculator(periods=30).get('close')\n",
    "mean_of_return = stats_values.mean_return_calculator(periods=30).get('close')\n",
    "sharpe_ratio = MathematicalFormulae().sharpe_ratio(mean_of_return,std_of_return)\n",
    "print(sharpe_ratio)\n"
   ]
  },
  {
   "cell_type": "code",
   "execution_count": 87,
   "metadata": {},
   "outputs": [],
   "source": [
    "returns = STATSFINDER(df_price).returns_calculator(periods=30)"
   ]
  },
  {
   "cell_type": "code",
   "execution_count": null,
   "metadata": {},
   "outputs": [],
   "source": [
    "class PriceAdjustment:\n",
    "    def _init__(self,cash,bonus,close_price):\n",
    "        "
   ]
  },
  {
   "cell_type": "code",
   "execution_count": 1,
   "metadata": {},
   "outputs": [],
   "source": [
    "def adjustment_ratio(close_price,cash=0,bonus=0,right=0):\n",
    "    bonus_adjusted_price = close_price/(1+bonus/100)\n",
    "    right_adjusted_price = bonus_adjusted_price/(1+right/100)\n",
    "    diff_amount = close_price - right_adjusted_price+cash\n",
    "    multiplying_factor = (close_price-diff_amount)/close_price\n",
    "    return multiplying_factor\n",
    "    "
   ]
  },
  {
   "cell_type": "code",
   "execution_count": null,
   "metadata": {},
   "outputs": [],
   "source": [
    "adjustment_ratio()"
   ]
  }
 ],
 "metadata": {
  "kernelspec": {
   "display_name": "Python 3",
   "language": "python",
   "name": "python3"
  },
  "language_info": {
   "codemirror_mode": {
    "name": "ipython",
    "version": 3
   },
   "file_extension": ".py",
   "mimetype": "text/x-python",
   "name": "python",
   "nbconvert_exporter": "python",
   "pygments_lexer": "ipython3",
   "version": "3.7.4"
  }
 },
 "nbformat": 4,
 "nbformat_minor": 2
}
