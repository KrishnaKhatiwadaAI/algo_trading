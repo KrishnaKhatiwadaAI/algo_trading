{
 "cells": [
  {
   "cell_type": "code",
   "execution_count": 11,
   "metadata": {},
   "outputs": [],
   "source": [
    "import pandas as pd\n",
    "import yfinance as yf\n",
    "from yahoofinancials import YahooFinancials"
   ]
  },
  {
   "cell_type": "code",
   "execution_count": 19,
   "metadata": {},
   "outputs": [
    {
     "name": "stdout",
     "output_type": "stream",
     "text": [
      "[*********************100%***********************]  1 of 1 completed\n"
     ]
    }
   ],
   "source": [
    "df = yf.download('AAPL',interval = \"1m\",start=\"2021-12-01\", end=\"2021-12-03\")"
   ]
  },
  {
   "cell_type": "code",
   "execution_count": 20,
   "metadata": {},
   "outputs": [
    {
     "data": {
      "text/html": [
       "<div>\n",
       "<style scoped>\n",
       "    .dataframe tbody tr th:only-of-type {\n",
       "        vertical-align: middle;\n",
       "    }\n",
       "\n",
       "    .dataframe tbody tr th {\n",
       "        vertical-align: top;\n",
       "    }\n",
       "\n",
       "    .dataframe thead th {\n",
       "        text-align: right;\n",
       "    }\n",
       "</style>\n",
       "<table border=\"1\" class=\"dataframe\">\n",
       "  <thead>\n",
       "    <tr style=\"text-align: right;\">\n",
       "      <th></th>\n",
       "      <th>Open</th>\n",
       "      <th>High</th>\n",
       "      <th>Low</th>\n",
       "      <th>Close</th>\n",
       "      <th>Adj Close</th>\n",
       "      <th>Volume</th>\n",
       "    </tr>\n",
       "    <tr>\n",
       "      <th>Datetime</th>\n",
       "      <th></th>\n",
       "      <th></th>\n",
       "      <th></th>\n",
       "      <th></th>\n",
       "      <th></th>\n",
       "      <th></th>\n",
       "    </tr>\n",
       "  </thead>\n",
       "  <tbody>\n",
       "    <tr>\n",
       "      <th>2021-11-30 13:15:00-05:00</th>\n",
       "      <td>163.339996</td>\n",
       "      <td>163.489899</td>\n",
       "      <td>163.320099</td>\n",
       "      <td>163.440094</td>\n",
       "      <td>163.440094</td>\n",
       "      <td>0</td>\n",
       "    </tr>\n",
       "    <tr>\n",
       "      <th>2021-11-30 13:16:00-05:00</th>\n",
       "      <td>163.440002</td>\n",
       "      <td>163.639999</td>\n",
       "      <td>163.399994</td>\n",
       "      <td>163.490005</td>\n",
       "      <td>163.490005</td>\n",
       "      <td>174276</td>\n",
       "    </tr>\n",
       "    <tr>\n",
       "      <th>2021-11-30 13:17:00-05:00</th>\n",
       "      <td>163.483002</td>\n",
       "      <td>163.483002</td>\n",
       "      <td>163.149994</td>\n",
       "      <td>163.179993</td>\n",
       "      <td>163.179993</td>\n",
       "      <td>203560</td>\n",
       "    </tr>\n",
       "    <tr>\n",
       "      <th>2021-11-30 13:18:00-05:00</th>\n",
       "      <td>163.160004</td>\n",
       "      <td>163.375000</td>\n",
       "      <td>163.130005</td>\n",
       "      <td>163.375000</td>\n",
       "      <td>163.375000</td>\n",
       "      <td>295121</td>\n",
       "    </tr>\n",
       "    <tr>\n",
       "      <th>2021-11-30 13:19:00-05:00</th>\n",
       "      <td>163.375000</td>\n",
       "      <td>163.375000</td>\n",
       "      <td>163.220001</td>\n",
       "      <td>163.279800</td>\n",
       "      <td>163.279800</td>\n",
       "      <td>167743</td>\n",
       "    </tr>\n",
       "    <tr>\n",
       "      <th>...</th>\n",
       "      <td>...</td>\n",
       "      <td>...</td>\n",
       "      <td>...</td>\n",
       "      <td>...</td>\n",
       "      <td>...</td>\n",
       "      <td>...</td>\n",
       "    </tr>\n",
       "    <tr>\n",
       "      <th>2021-12-02 13:10:00-05:00</th>\n",
       "      <td>162.960007</td>\n",
       "      <td>163.070007</td>\n",
       "      <td>162.889999</td>\n",
       "      <td>162.989899</td>\n",
       "      <td>162.989899</td>\n",
       "      <td>198133</td>\n",
       "    </tr>\n",
       "    <tr>\n",
       "      <th>2021-12-02 13:11:00-05:00</th>\n",
       "      <td>162.990005</td>\n",
       "      <td>163.100006</td>\n",
       "      <td>162.964996</td>\n",
       "      <td>163.080002</td>\n",
       "      <td>163.080002</td>\n",
       "      <td>150026</td>\n",
       "    </tr>\n",
       "    <tr>\n",
       "      <th>2021-12-02 13:12:00-05:00</th>\n",
       "      <td>163.080002</td>\n",
       "      <td>163.129898</td>\n",
       "      <td>162.970001</td>\n",
       "      <td>163.110001</td>\n",
       "      <td>163.110001</td>\n",
       "      <td>140891</td>\n",
       "    </tr>\n",
       "    <tr>\n",
       "      <th>2021-12-02 13:13:00-05:00</th>\n",
       "      <td>163.119995</td>\n",
       "      <td>163.380005</td>\n",
       "      <td>163.100006</td>\n",
       "      <td>163.369995</td>\n",
       "      <td>163.369995</td>\n",
       "      <td>253455</td>\n",
       "    </tr>\n",
       "    <tr>\n",
       "      <th>2021-12-02 13:14:00-05:00</th>\n",
       "      <td>163.369995</td>\n",
       "      <td>163.460007</td>\n",
       "      <td>163.289993</td>\n",
       "      <td>163.460007</td>\n",
       "      <td>163.460007</td>\n",
       "      <td>215905</td>\n",
       "    </tr>\n",
       "  </tbody>\n",
       "</table>\n",
       "<p>780 rows × 6 columns</p>\n",
       "</div>"
      ],
      "text/plain": [
       "                                 Open        High         Low       Close  \\\n",
       "Datetime                                                                    \n",
       "2021-11-30 13:15:00-05:00  163.339996  163.489899  163.320099  163.440094   \n",
       "2021-11-30 13:16:00-05:00  163.440002  163.639999  163.399994  163.490005   \n",
       "2021-11-30 13:17:00-05:00  163.483002  163.483002  163.149994  163.179993   \n",
       "2021-11-30 13:18:00-05:00  163.160004  163.375000  163.130005  163.375000   \n",
       "2021-11-30 13:19:00-05:00  163.375000  163.375000  163.220001  163.279800   \n",
       "...                               ...         ...         ...         ...   \n",
       "2021-12-02 13:10:00-05:00  162.960007  163.070007  162.889999  162.989899   \n",
       "2021-12-02 13:11:00-05:00  162.990005  163.100006  162.964996  163.080002   \n",
       "2021-12-02 13:12:00-05:00  163.080002  163.129898  162.970001  163.110001   \n",
       "2021-12-02 13:13:00-05:00  163.119995  163.380005  163.100006  163.369995   \n",
       "2021-12-02 13:14:00-05:00  163.369995  163.460007  163.289993  163.460007   \n",
       "\n",
       "                            Adj Close  Volume  \n",
       "Datetime                                       \n",
       "2021-11-30 13:15:00-05:00  163.440094       0  \n",
       "2021-11-30 13:16:00-05:00  163.490005  174276  \n",
       "2021-11-30 13:17:00-05:00  163.179993  203560  \n",
       "2021-11-30 13:18:00-05:00  163.375000  295121  \n",
       "2021-11-30 13:19:00-05:00  163.279800  167743  \n",
       "...                               ...     ...  \n",
       "2021-12-02 13:10:00-05:00  162.989899  198133  \n",
       "2021-12-02 13:11:00-05:00  163.080002  150026  \n",
       "2021-12-02 13:12:00-05:00  163.110001  140891  \n",
       "2021-12-02 13:13:00-05:00  163.369995  253455  \n",
       "2021-12-02 13:14:00-05:00  163.460007  215905  \n",
       "\n",
       "[780 rows x 6 columns]"
      ]
     },
     "execution_count": 20,
     "metadata": {},
     "output_type": "execute_result"
    }
   ],
   "source": [
    "df"
   ]
  },
  {
   "cell_type": "code",
   "execution_count": 21,
   "metadata": {},
   "outputs": [],
   "source": [
    "str = list()"
   ]
  },
  {
   "cell_type": "code",
   "execution_count": 59,
   "metadata": {},
   "outputs": [],
   "source": [
    "l=[1,2,3]"
   ]
  },
  {
   "cell_type": "code",
   "execution_count": 32,
   "metadata": {},
   "outputs": [],
   "source": [
    "l.insert(0,0)"
   ]
  },
  {
   "cell_type": "code",
   "execution_count": 58,
   "metadata": {},
   "outputs": [
    {
     "data": {
      "text/plain": [
       "[1, 2, 3, 3, 2, 3]"
      ]
     },
     "execution_count": 58,
     "metadata": {},
     "output_type": "execute_result"
    }
   ],
   "source": [
    "l"
   ]
  },
  {
   "cell_type": "code",
   "execution_count": 53,
   "metadata": {},
   "outputs": [],
   "source": [
    "x =[2,3]"
   ]
  },
  {
   "cell_type": "code",
   "execution_count": 56,
   "metadata": {},
   "outputs": [],
   "source": [
    "l[1:2]=x"
   ]
  },
  {
   "cell_type": "code",
   "execution_count": 97,
   "metadata": {},
   "outputs": [
    {
     "name": "stdout",
     "output_type": "stream",
     "text": [
      "[-2, 1, 0, 1, 2, 3]\n"
     ]
    },
    {
     "data": {
      "text/plain": [
       "<map at 0x7f17987cb510>"
      ]
     },
     "execution_count": 97,
     "metadata": {},
     "output_type": "execute_result"
    }
   ],
   "source": [
    "l = [1,2,3]\n",
    "x=[-2,1,0]\n",
    "l[0:0]=x\n",
    "print(l)\n",
    "l = [1,2,3,1]\n",
    "x=[-2,1,0]\n",
    "map(lambda i:i*i,x)"
   ]
  },
  {
   "cell_type": "code",
   "execution_count": null,
   "metadata": {},
   "outputs": [],
   "source": []
  }
 ],
 "metadata": {
  "kernelspec": {
   "display_name": "Python 3",
   "language": "python",
   "name": "python3"
  },
  "language_info": {
   "codemirror_mode": {
    "name": "ipython",
    "version": 3
   },
   "file_extension": ".py",
   "mimetype": "text/x-python",
   "name": "python",
   "nbconvert_exporter": "python",
   "pygments_lexer": "ipython3",
   "version": "3.7.4"
  }
 },
 "nbformat": 4,
 "nbformat_minor": 2
}
